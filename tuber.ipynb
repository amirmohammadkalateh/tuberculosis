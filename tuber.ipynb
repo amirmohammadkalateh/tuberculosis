{
  "nbformat": 4,
  "nbformat_minor": 0,
  "metadata": {
    "colab": {
      "provenance": [],
      "authorship_tag": "ABX9TyNiv1K8KxsgFhWrfIh5KRNL",
      "include_colab_link": true
    },
    "kernelspec": {
      "name": "python3",
      "display_name": "Python 3"
    },
    "language_info": {
      "name": "python"
    }
  },
  "cells": [
    {
      "cell_type": "markdown",
      "metadata": {
        "id": "view-in-github",
        "colab_type": "text"
      },
      "source": [
        "<a href=\"https://colab.research.google.com/github/amirmohammadkalateh/tuberculosis/blob/main/tuber.ipynb\" target=\"_parent\"><img src=\"https://colab.research.google.com/assets/colab-badge.svg\" alt=\"Open In Colab\"/></a>"
      ]
    },
    {
      "cell_type": "code",
      "execution_count": 1,
      "metadata": {
        "id": "9ApEr8jWMsq4"
      },
      "outputs": [],
      "source": [
        "import pandas as pd\n",
        "import numpy as np\n",
        "from sklearn.model_selection import train_test_split\n",
        "from sklearn.preprocessing import StandardScaler, LabelEncoder\n",
        "from tensorflow.keras.models import Model\n",
        "from tensorflow.keras.layers import Input, Dense, Dropout, BatchNormalization\n",
        "from tensorflow.keras.optimizers import Adam\n",
        "from tensorflow.keras.callbacks import EarlyStopping"
      ]
    },
    {
      "cell_type": "code",
      "source": [
        "# Load and preprocess data\n",
        "df = pd.read_csv('tuberculosis_xray_dataset.csv')"
      ],
      "metadata": {
        "id": "ewNm5trNMvJH"
      },
      "execution_count": 29,
      "outputs": []
    },
    {
      "cell_type": "code",
      "source": [
        "# Separate features and target\n",
        "X = df.drop(['Patient_ID', 'Class'], axis=1)\n",
        "y = df['Class']"
      ],
      "metadata": {
        "id": "ax324e7EM56c"
      },
      "execution_count": 30,
      "outputs": []
    },
    {
      "cell_type": "code",
      "source": [
        "# Identify categorical and numerical columns\n",
        "categorical_cols = ['Gender', 'Chest_Pain', 'Night_Sweats', 'Sputum_Production', 'Blood_in_Sputum', 'Smoking_History', 'Previous_TB_History', 'Fever']\n",
        "numerical_cols = ['Age', 'Cough_Severity', 'Breathlessness', 'Fatigue', 'Weight_Loss']\n"
      ],
      "metadata": {
        "id": "5yy0gjn8OiMr"
      },
      "execution_count": 31,
      "outputs": []
    },
    {
      "cell_type": "code",
      "source": [
        "# Encode categorical variables\n",
        "le = LabelEncoder()\n",
        "for col in categorical_cols:\n",
        "    X[col] = le.fit_transform(X[col])\n"
      ],
      "metadata": {
        "id": "vaF8wtCtM6kE"
      },
      "execution_count": 32,
      "outputs": []
    },
    {
      "cell_type": "code",
      "source": [
        "\n",
        "# Split data\n",
        "X_train, X_test, y_train, y_test = train_test_split(X, y, test_size=0.2, random_state=42)"
      ],
      "metadata": {
        "id": "yKJYFjDdM8tV"
      },
      "execution_count": 33,
      "outputs": []
    },
    {
      "cell_type": "code",
      "source": [
        "# Scale numerical features\n",
        "scaler = StandardScaler()\n",
        "X_train[numerical_cols] = scaler.fit_transform(X_train[numerical_cols])\n",
        "X_test[numerical_cols] = scaler.transform(X_test[numerical_cols])\n"
      ],
      "metadata": {
        "id": "h_aHE2laM-tb"
      },
      "execution_count": 34,
      "outputs": []
    },
    {
      "cell_type": "code",
      "source": [
        "# Build model using Functional API\n",
        "def build_model(input_shape):\n",
        "    inputs = Input(shape=input_shape)\n",
        "\n",
        "    # First dense block\n",
        "    x = Dense(256, activation='relu')(inputs)\n",
        "    x = BatchNormalization()(x)\n",
        "    x = Dropout(0.3)(x)\n",
        "\n",
        "    # Second dense block\n",
        "    x = Dense(128, activation='relu')(x)\n",
        "    x = BatchNormalization()(x)\n",
        "    x = Dropout(0.2)(x)\n",
        "\n",
        "    # Third dense block\n",
        "    x = Dense(64, activation='relu')(x)\n",
        "    x = BatchNormalization()(x)\n",
        "    x = Dropout(0.1)(x)\n",
        "\n",
        "    # Output layer\n",
        "    outputs = Dense(1, activation='sigmoid')(x)\n",
        "\n",
        "    model = Model(inputs=inputs, outputs=outputs)\n",
        "    return model"
      ],
      "metadata": {
        "id": "K9Xpj3vDNAr6"
      },
      "execution_count": 35,
      "outputs": []
    },
    {
      "cell_type": "code",
      "source": [
        "# Create and compile model\n",
        "model = build_model((X_train.shape[1],))\n",
        "model.compile(optimizer=Adam(learning_rate=0.001),loss='binary_crossentropy',\n",
        "              metrics=['accuracy'])"
      ],
      "metadata": {
        "id": "ZABIOYp2NIPD"
      },
      "execution_count": 36,
      "outputs": []
    },
    {
      "cell_type": "code",
      "source": [
        "# Train model with early stopping\n",
        "early_stopping = EarlyStopping(monitor='val_loss', patience=10, restore_best_weights=True)\n",
        "\n",
        "history = model.fit(X_train, le.fit_transform(y_train),\n",
        "                   epochs=100,\n",
        "                   batch_size=32,\n",
        "                   validation_split=0.2,\n",
        "                   callbacks=[early_stopping])"
      ],
      "metadata": {
        "colab": {
          "base_uri": "https://localhost:8080/"
        },
        "id": "SouYW-wCNMka",
        "outputId": "ef7c0d67-e768-43c7-c8a4-fc2dec71e2bf"
      },
      "execution_count": 39,
      "outputs": [
        {
          "output_type": "stream",
          "name": "stdout",
          "text": [
            "Epoch 1/100\n",
            "\u001b[1m400/400\u001b[0m \u001b[32m━━━━━━━━━━━━━━━━━━━━\u001b[0m\u001b[37m\u001b[0m \u001b[1m2s\u001b[0m 5ms/step - accuracy: 0.6904 - loss: 0.6291 - val_accuracy: 0.7078 - val_loss: 0.6101\n",
            "Epoch 2/100\n",
            "\u001b[1m400/400\u001b[0m \u001b[32m━━━━━━━━━━━━━━━━━━━━\u001b[0m\u001b[37m\u001b[0m \u001b[1m2s\u001b[0m 5ms/step - accuracy: 0.6925 - loss: 0.6261 - val_accuracy: 0.7122 - val_loss: 0.6060\n",
            "Epoch 3/100\n",
            "\u001b[1m400/400\u001b[0m \u001b[32m━━━━━━━━━━━━━━━━━━━━\u001b[0m\u001b[37m\u001b[0m \u001b[1m2s\u001b[0m 5ms/step - accuracy: 0.6965 - loss: 0.6168 - val_accuracy: 0.7125 - val_loss: 0.6057\n",
            "Epoch 4/100\n",
            "\u001b[1m400/400\u001b[0m \u001b[32m━━━━━━━━━━━━━━━━━━━━\u001b[0m\u001b[37m\u001b[0m \u001b[1m3s\u001b[0m 5ms/step - accuracy: 0.7049 - loss: 0.6045 - val_accuracy: 0.7125 - val_loss: 0.6047\n",
            "Epoch 5/100\n",
            "\u001b[1m400/400\u001b[0m \u001b[32m━━━━━━━━━━━━━━━━━━━━\u001b[0m\u001b[37m\u001b[0m \u001b[1m2s\u001b[0m 5ms/step - accuracy: 0.7014 - loss: 0.6095 - val_accuracy: 0.7125 - val_loss: 0.6036\n",
            "Epoch 6/100\n",
            "\u001b[1m400/400\u001b[0m \u001b[32m━━━━━━━━━━━━━━━━━━━━\u001b[0m\u001b[37m\u001b[0m \u001b[1m3s\u001b[0m 6ms/step - accuracy: 0.7007 - loss: 0.6092 - val_accuracy: 0.7125 - val_loss: 0.6042\n",
            "Epoch 7/100\n",
            "\u001b[1m400/400\u001b[0m \u001b[32m━━━━━━━━━━━━━━━━━━━━\u001b[0m\u001b[37m\u001b[0m \u001b[1m2s\u001b[0m 4ms/step - accuracy: 0.7042 - loss: 0.6025 - val_accuracy: 0.7125 - val_loss: 0.6045\n",
            "Epoch 8/100\n",
            "\u001b[1m400/400\u001b[0m \u001b[32m━━━━━━━━━━━━━━━━━━━━\u001b[0m\u001b[37m\u001b[0m \u001b[1m2s\u001b[0m 5ms/step - accuracy: 0.7081 - loss: 0.5991 - val_accuracy: 0.7125 - val_loss: 0.6054\n",
            "Epoch 9/100\n",
            "\u001b[1m400/400\u001b[0m \u001b[32m━━━━━━━━━━━━━━━━━━━━\u001b[0m\u001b[37m\u001b[0m \u001b[1m2s\u001b[0m 4ms/step - accuracy: 0.7112 - loss: 0.5992 - val_accuracy: 0.7122 - val_loss: 0.6058\n",
            "Epoch 10/100\n",
            "\u001b[1m400/400\u001b[0m \u001b[32m━━━━━━━━━━━━━━━━━━━━\u001b[0m\u001b[37m\u001b[0m \u001b[1m3s\u001b[0m 5ms/step - accuracy: 0.7049 - loss: 0.6006 - val_accuracy: 0.7116 - val_loss: 0.6050\n",
            "Epoch 11/100\n",
            "\u001b[1m400/400\u001b[0m \u001b[32m━━━━━━━━━━━━━━━━━━━━\u001b[0m\u001b[37m\u001b[0m \u001b[1m2s\u001b[0m 6ms/step - accuracy: 0.7078 - loss: 0.5977 - val_accuracy: 0.7116 - val_loss: 0.6046\n",
            "Epoch 12/100\n",
            "\u001b[1m400/400\u001b[0m \u001b[32m━━━━━━━━━━━━━━━━━━━━\u001b[0m\u001b[37m\u001b[0m \u001b[1m2s\u001b[0m 6ms/step - accuracy: 0.7095 - loss: 0.5952 - val_accuracy: 0.7113 - val_loss: 0.6059\n",
            "Epoch 13/100\n",
            "\u001b[1m400/400\u001b[0m \u001b[32m━━━━━━━━━━━━━━━━━━━━\u001b[0m\u001b[37m\u001b[0m \u001b[1m2s\u001b[0m 5ms/step - accuracy: 0.6970 - loss: 0.6058 - val_accuracy: 0.7125 - val_loss: 0.6072\n",
            "Epoch 14/100\n",
            "\u001b[1m400/400\u001b[0m \u001b[32m━━━━━━━━━━━━━━━━━━━━\u001b[0m\u001b[37m\u001b[0m \u001b[1m2s\u001b[0m 5ms/step - accuracy: 0.7004 - loss: 0.6030 - val_accuracy: 0.7122 - val_loss: 0.6054\n",
            "Epoch 15/100\n",
            "\u001b[1m400/400\u001b[0m \u001b[32m━━━━━━━━━━━━━━━━━━━━\u001b[0m\u001b[37m\u001b[0m \u001b[1m2s\u001b[0m 5ms/step - accuracy: 0.6976 - loss: 0.6065 - val_accuracy: 0.7131 - val_loss: 0.6062\n"
          ]
        }
      ]
    },
    {
      "cell_type": "code",
      "source": [],
      "metadata": {
        "id": "en9692RmNPIv"
      },
      "execution_count": 41,
      "outputs": []
    },
    {
      "cell_type": "markdown",
      "source": [
        "# ***`new one `***"
      ],
      "metadata": {
        "id": "3ll0b1KAQLdf"
      }
    },
    {
      "cell_type": "code",
      "source": [
        "import pandas as pd\n",
        "import numpy as np\n",
        "from sklearn.model_selection import train_test_split\n",
        "from sklearn.preprocessing import StandardScaler, LabelEncoder\n",
        "from tensorflow.keras.models import Model\n",
        "from tensorflow.keras.layers import Input, Dense, Dropout, BatchNormalization\n",
        "from tensorflow.keras.optimizers import Adam\n",
        "from tensorflow.keras.callbacks import EarlyStopping\n",
        "\n",
        "# Load and preprocess data\n",
        "df = pd.read_csv('tuberculosis_xray_dataset.csv')\n",
        "\n",
        "# Separate features and target\n",
        "X = df.drop(['Patient_ID', 'Class'], axis=1)\n",
        "y = df['Class']\n",
        "\n",
        "# Identify categorical and numerical columns\n",
        "categorical_cols = ['Gender', 'Chest_Pain', 'Night_Sweats', 'Sputum_Production', 'Blood_in_Sputum', 'Smoking_History', 'Previous_TB_History', 'Fever']\n",
        "numerical_cols = ['Age', 'Cough_Severity', 'Breathlessness', 'Fatigue', 'Weight_Loss']\n",
        "\n",
        "# Encode categorical variables\n",
        "le = LabelEncoder()\n",
        "for col in categorical_cols:\n",
        "    X[col] = le.fit_transform(X[col])\n",
        "\n",
        "# Split data\n",
        "X_train, X_test, y_train, y_test = train_test_split(X, y, test_size=0.2, random_state=42)\n",
        "\n",
        "# Scale numerical features\n",
        "scaler = StandardScaler()\n",
        "X_train[numerical_cols] = scaler.fit_transform(X_train[numerical_cols])\n",
        "X_test[numerical_cols] = scaler.transform(X_test[numerical_cols])\n",
        "\n",
        "# Build model using Functional API\n",
        "def build_model(input_shape):\n",
        "    inputs = Input(shape=input_shape)\n",
        "\n",
        "    # First dense block\n",
        "    x = Dense(256, activation='relu')(inputs)\n",
        "    x = BatchNormalization()(x)\n",
        "    x = Dropout(0.3)(x)\n",
        "\n",
        "    # Second dense block\n",
        "    x = Dense(128, activation='relu')(x)\n",
        "    x = BatchNormalization()(x)\n",
        "    x = Dropout(0.2)(x)\n",
        "\n",
        "    # Third dense block\n",
        "    x = Dense(64, activation='relu')(x)\n",
        "    x = BatchNormalization()(x)\n",
        "    x = Dropout(0.1)(x)\n",
        "\n",
        "    # Output layer\n",
        "    outputs = Dense(1, activation='sigmoid')(x)\n",
        "\n",
        "    model = Model(inputs=inputs, outputs=outputs)\n",
        "    return model\n",
        "\n",
        "# Create and compile model\n",
        "model = build_model((X_train.shape[1],))\n",
        "model.compile(optimizer=Adam(learning_rate=0.001),\n",
        "              loss='binary_crossentropy',\n",
        "              metrics=['accuracy'])\n",
        "\n",
        "# Train model with early stopping\n",
        "early_stopping = EarlyStopping(monitor='val_loss', patience=10, restore_best_weights=True)\n",
        "\n",
        "history = model.fit(X_train, le.fit_transform(y_train),\n",
        "                   epochs=100,\n",
        "                   batch_size=32,\n",
        "                   validation_split=0.2,\n",
        "                   callbacks=[early_stopping])\n",
        "\n",
        "# Evaluate model\n",
        "test_loss, test_accuracy = model.evaluate(X_test, le.transform(y_test))\n",
        "print(f\"\\nTest Accuracy: {test_accuracy:.4f}\")\n"
      ],
      "metadata": {
        "colab": {
          "base_uri": "https://localhost:8080/"
        },
        "id": "nNDBhEx6Owpr",
        "outputId": "99194b46-99af-4d58-a5d6-b61fdbc2b65c"
      },
      "execution_count": 27,
      "outputs": [
        {
          "output_type": "stream",
          "name": "stdout",
          "text": [
            "Epoch 1/100\n",
            "\u001b[1m400/400\u001b[0m \u001b[32m━━━━━━━━━━━━━━━━━━━━\u001b[0m\u001b[37m\u001b[0m \u001b[1m7s\u001b[0m 6ms/step - accuracy: 0.5996 - loss: 0.7278 - val_accuracy: 0.7116 - val_loss: 0.6101\n",
            "Epoch 2/100\n",
            "\u001b[1m400/400\u001b[0m \u001b[32m━━━━━━━━━━━━━━━━━━━━\u001b[0m\u001b[37m\u001b[0m \u001b[1m4s\u001b[0m 5ms/step - accuracy: 0.6990 - loss: 0.6269 - val_accuracy: 0.7125 - val_loss: 0.6068\n",
            "Epoch 3/100\n",
            "\u001b[1m400/400\u001b[0m \u001b[32m━━━━━━━━━━━━━━━━━━━━\u001b[0m\u001b[37m\u001b[0m \u001b[1m2s\u001b[0m 5ms/step - accuracy: 0.6997 - loss: 0.6192 - val_accuracy: 0.7125 - val_loss: 0.6067\n",
            "Epoch 4/100\n",
            "\u001b[1m400/400\u001b[0m \u001b[32m━━━━━━━━━━━━━━━━━━━━\u001b[0m\u001b[37m\u001b[0m \u001b[1m2s\u001b[0m 4ms/step - accuracy: 0.7017 - loss: 0.6133 - val_accuracy: 0.7125 - val_loss: 0.6012\n",
            "Epoch 5/100\n",
            "\u001b[1m400/400\u001b[0m \u001b[32m━━━━━━━━━━━━━━━━━━━━\u001b[0m\u001b[37m\u001b[0m \u001b[1m3s\u001b[0m 5ms/step - accuracy: 0.7009 - loss: 0.6061 - val_accuracy: 0.7125 - val_loss: 0.6038\n",
            "Epoch 6/100\n",
            "\u001b[1m400/400\u001b[0m \u001b[32m━━━━━━━━━━━━━━━━━━━━\u001b[0m\u001b[37m\u001b[0m \u001b[1m3s\u001b[0m 5ms/step - accuracy: 0.7068 - loss: 0.6020 - val_accuracy: 0.7125 - val_loss: 0.6030\n",
            "Epoch 7/100\n",
            "\u001b[1m400/400\u001b[0m \u001b[32m━━━━━━━━━━━━━━━━━━━━\u001b[0m\u001b[37m\u001b[0m \u001b[1m2s\u001b[0m 4ms/step - accuracy: 0.7037 - loss: 0.6074 - val_accuracy: 0.7125 - val_loss: 0.6021\n",
            "Epoch 8/100\n",
            "\u001b[1m400/400\u001b[0m \u001b[32m━━━━━━━━━━━━━━━━━━━━\u001b[0m\u001b[37m\u001b[0m \u001b[1m3s\u001b[0m 4ms/step - accuracy: 0.7026 - loss: 0.6019 - val_accuracy: 0.7125 - val_loss: 0.6062\n",
            "Epoch 9/100\n",
            "\u001b[1m400/400\u001b[0m \u001b[32m━━━━━━━━━━━━━━━━━━━━\u001b[0m\u001b[37m\u001b[0m \u001b[1m3s\u001b[0m 4ms/step - accuracy: 0.7053 - loss: 0.6032 - val_accuracy: 0.7128 - val_loss: 0.6019\n",
            "Epoch 10/100\n",
            "\u001b[1m400/400\u001b[0m \u001b[32m━━━━━━━━━━━━━━━━━━━━\u001b[0m\u001b[37m\u001b[0m \u001b[1m3s\u001b[0m 5ms/step - accuracy: 0.7058 - loss: 0.6036 - val_accuracy: 0.7128 - val_loss: 0.6040\n",
            "Epoch 11/100\n",
            "\u001b[1m400/400\u001b[0m \u001b[32m━━━━━━━━━━━━━━━━━━━━\u001b[0m\u001b[37m\u001b[0m \u001b[1m2s\u001b[0m 6ms/step - accuracy: 0.6991 - loss: 0.6074 - val_accuracy: 0.7134 - val_loss: 0.6022\n",
            "Epoch 12/100\n",
            "\u001b[1m400/400\u001b[0m \u001b[32m━━━━━━━━━━━━━━━━━━━━\u001b[0m\u001b[37m\u001b[0m \u001b[1m2s\u001b[0m 4ms/step - accuracy: 0.7063 - loss: 0.5989 - val_accuracy: 0.7125 - val_loss: 0.6038\n",
            "Epoch 13/100\n",
            "\u001b[1m400/400\u001b[0m \u001b[32m━━━━━━━━━━━━━━━━━━━━\u001b[0m\u001b[37m\u001b[0m \u001b[1m2s\u001b[0m 4ms/step - accuracy: 0.7019 - loss: 0.6006 - val_accuracy: 0.7119 - val_loss: 0.6038\n",
            "Epoch 14/100\n",
            "\u001b[1m400/400\u001b[0m \u001b[32m━━━━━━━━━━━━━━━━━━━━\u001b[0m\u001b[37m\u001b[0m \u001b[1m3s\u001b[0m 4ms/step - accuracy: 0.7043 - loss: 0.5984 - val_accuracy: 0.7131 - val_loss: 0.6030\n",
            "\u001b[1m125/125\u001b[0m \u001b[32m━━━━━━━━━━━━━━━━━━━━\u001b[0m\u001b[37m\u001b[0m \u001b[1m0s\u001b[0m 2ms/step - accuracy: 0.6945 - loss: 0.6241\n",
            "\n",
            "Test Accuracy: 0.6965\n"
          ]
        }
      ]
    },
    {
      "cell_type": "markdown",
      "source": [
        "# ***`new one `***"
      ],
      "metadata": {
        "id": "hmG6U7MYQUmm"
      }
    },
    {
      "cell_type": "code",
      "source": [
        "\n",
        "import pandas as pd\n",
        "import numpy as np\n",
        "from sklearn.model_selection import train_test_split\n",
        "from sklearn.preprocessing import StandardScaler, LabelEncoder, OneHotEncoder\n",
        "from tensorflow.keras.models import Model\n",
        "from tensorflow.keras.layers import Input, Dense, Dropout, BatchNormalization\n",
        "from tensorflow.keras.optimizers import Adam\n",
        "from tensorflow.keras.callbacks import EarlyStopping, ReduceLROnPlateau\n",
        "from tensorflow.keras.regularizers import l2\n",
        "\n",
        "# Load and preprocess data\n",
        "df = pd.read_csv('tuberculosis_xray_dataset.csv')\n",
        "\n",
        "# Separate features and target\n",
        "X = df.drop(['Patient_ID', 'Class'], axis=1)\n",
        "y = df['Class']\n",
        "\n",
        "# Identify categorical and numerical columns\n",
        "categorical_cols = ['Gender', 'Chest_Pain', 'Night_Sweats', 'Sputum_Production',\n",
        "                   'Blood_in_Sputum', 'Smoking_History', 'Previous_TB_History', 'Fever']\n",
        "numerical_cols = ['Age', 'Cough_Severity', 'Breathlessness', 'Fatigue', 'Weight_Loss']\n",
        "\n",
        "# One-hot encode categorical variables\n",
        "onehot = OneHotEncoder(sparse_output=False, handle_unknown='ignore')\n",
        "X_cat = onehot.fit_transform(X[categorical_cols])\n",
        "\n",
        "# Scale numerical features\n",
        "scaler = StandardScaler()\n",
        "X_num = scaler.fit_transform(X[numerical_cols])\n",
        "\n",
        "# Combine features\n",
        "X_combined = np.hstack([X_num, X_cat])\n",
        "\n",
        "# Encode target\n",
        "le = LabelEncoder()\n",
        "y_encoded = le.fit_transform(y)\n",
        "\n",
        "# Split data with stratification\n",
        "X_train, X_test, y_train, y_test = train_test_split(X_combined, y_encoded,\n",
        "                                                    test_size=0.2,\n",
        "                                                    random_state=42,\n",
        "                                                    stratify=y_encoded)\n",
        "\n",
        "def build_model(input_shape):\n",
        "    inputs = Input(shape=input_shape)\n",
        "\n",
        "    # First block\n",
        "    x = Dense(512, activation='relu', kernel_regularizer=l2(0.01))(inputs)\n",
        "    x = BatchNormalization()(x)\n",
        "    x = Dropout(0.4)(x)\n",
        "\n",
        "    # Second block\n",
        "    x = Dense(256, activation='relu', kernel_regularizer=l2(0.01))(x)\n",
        "    x = BatchNormalization()(x)\n",
        "    x = Dropout(0.3)(x)\n",
        "\n",
        "    # Third block\n",
        "    x = Dense(128, activation='relu', kernel_regularizer=l2(0.01))(x)\n",
        "    x = BatchNormalization()(x)\n",
        "    x = Dropout(0.2)(x)\n",
        "\n",
        "    # Fourth block\n",
        "    x = Dense(64, activation='relu', kernel_regularizer=l2(0.01))(x)\n",
        "    x = BatchNormalization()(x)\n",
        "    x = Dropout(0.1)(x)\n",
        "\n",
        "    outputs = Dense(1, activation='sigmoid')(x)\n",
        "\n",
        "    model = Model(inputs=inputs, outputs=outputs)\n",
        "    return model\n",
        "\n",
        "# Create and compile model\n",
        "model = build_model((X_train.shape[1],))\n",
        "model.compile(optimizer=Adam(learning_rate=0.001),\n",
        "              loss='binary_crossentropy',\n",
        "              metrics=['accuracy'])\n",
        "\n",
        "# Callbacks\n",
        "early_stopping = EarlyStopping(monitor='val_loss',\n",
        "                              patience=15,\n",
        "                              restore_best_weights=True)\n",
        "reduce_lr = ReduceLROnPlateau(monitor='val_loss',\n",
        "                             factor=0.2,\n",
        "                             patience=5,\n",
        "                             min_lr=1e-6)\n",
        "\n",
        "# Train model\n",
        "history = model.fit(X_train, y_train,\n",
        "                   epochs=150,\n",
        "                   batch_size=32,\n",
        "                   validation_split=0.2,\n",
        "                   callbacks=[early_stopping, reduce_lr])\n",
        "\n",
        "# Evaluate model\n",
        "test_loss, test_accuracy = model.evaluate(X_test, y_test)\n",
        "print(f\"\\nTest Accuracy: {test_accuracy:.4f}\")\n"
      ],
      "metadata": {
        "colab": {
          "base_uri": "https://localhost:8080/"
        },
        "id": "F5z4RMWHQQgx",
        "outputId": "381418a3-5ece-423b-95d5-5aa17f22ffd1"
      },
      "execution_count": 44,
      "outputs": [
        {
          "output_type": "stream",
          "name": "stdout",
          "text": [
            "Epoch 1/150\n",
            "\u001b[1m400/400\u001b[0m \u001b[32m━━━━━━━━━━━━━━━━━━━━\u001b[0m\u001b[37m\u001b[0m \u001b[1m9s\u001b[0m 11ms/step - accuracy: 0.5876 - loss: 5.7620 - val_accuracy: 0.7034 - val_loss: 2.3983 - learning_rate: 0.0010\n",
            "Epoch 2/150\n",
            "\u001b[1m400/400\u001b[0m \u001b[32m━━━━━━━━━━━━━━━━━━━━\u001b[0m\u001b[37m\u001b[0m \u001b[1m4s\u001b[0m 9ms/step - accuracy: 0.6815 - loss: 1.9571 - val_accuracy: 0.7034 - val_loss: 1.0483 - learning_rate: 0.0010\n",
            "Epoch 3/150\n",
            "\u001b[1m400/400\u001b[0m \u001b[32m━━━━━━━━━━━━━━━━━━━━\u001b[0m\u001b[37m\u001b[0m \u001b[1m6s\u001b[0m 11ms/step - accuracy: 0.6991 - loss: 0.9460 - val_accuracy: 0.7034 - val_loss: 0.7307 - learning_rate: 0.0010\n",
            "Epoch 4/150\n",
            "\u001b[1m400/400\u001b[0m \u001b[32m━━━━━━━━━━━━━━━━━━━━\u001b[0m\u001b[37m\u001b[0m \u001b[1m4s\u001b[0m 9ms/step - accuracy: 0.6984 - loss: 0.7165 - val_accuracy: 0.7034 - val_loss: 0.6734 - learning_rate: 0.0010\n",
            "Epoch 5/150\n",
            "\u001b[1m400/400\u001b[0m \u001b[32m━━━━━━━━━━━━━━━━━━━━\u001b[0m\u001b[37m\u001b[0m \u001b[1m5s\u001b[0m 9ms/step - accuracy: 0.7019 - loss: 0.6634 - val_accuracy: 0.7034 - val_loss: 0.6493 - learning_rate: 0.0010\n",
            "Epoch 6/150\n",
            "\u001b[1m400/400\u001b[0m \u001b[32m━━━━━━━━━━━━━━━━━━━━\u001b[0m\u001b[37m\u001b[0m \u001b[1m5s\u001b[0m 9ms/step - accuracy: 0.6973 - loss: 0.6549 - val_accuracy: 0.7034 - val_loss: 0.6469 - learning_rate: 0.0010\n",
            "Epoch 7/150\n",
            "\u001b[1m400/400\u001b[0m \u001b[32m━━━━━━━━━━━━━━━━━━━━\u001b[0m\u001b[37m\u001b[0m \u001b[1m5s\u001b[0m 9ms/step - accuracy: 0.6972 - loss: 0.6539 - val_accuracy: 0.6966 - val_loss: 0.6433 - learning_rate: 0.0010\n",
            "Epoch 8/150\n",
            "\u001b[1m400/400\u001b[0m \u001b[32m━━━━━━━━━━━━━━━━━━━━\u001b[0m\u001b[37m\u001b[0m \u001b[1m6s\u001b[0m 12ms/step - accuracy: 0.7017 - loss: 0.6446 - val_accuracy: 0.7034 - val_loss: 0.6383 - learning_rate: 0.0010\n",
            "Epoch 9/150\n",
            "\u001b[1m400/400\u001b[0m \u001b[32m━━━━━━━━━━━━━━━━━━━━\u001b[0m\u001b[37m\u001b[0m \u001b[1m4s\u001b[0m 9ms/step - accuracy: 0.7004 - loss: 0.6456 - val_accuracy: 0.7034 - val_loss: 0.6432 - learning_rate: 0.0010\n",
            "Epoch 10/150\n",
            "\u001b[1m400/400\u001b[0m \u001b[32m━━━━━━━━━━━━━━━━━━━━\u001b[0m\u001b[37m\u001b[0m \u001b[1m4s\u001b[0m 9ms/step - accuracy: 0.7006 - loss: 0.6445 - val_accuracy: 0.6753 - val_loss: 0.6523 - learning_rate: 0.0010\n",
            "Epoch 11/150\n",
            "\u001b[1m400/400\u001b[0m \u001b[32m━━━━━━━━━━━━━━━━━━━━\u001b[0m\u001b[37m\u001b[0m \u001b[1m5s\u001b[0m 9ms/step - accuracy: 0.7036 - loss: 0.6375 - val_accuracy: 0.6994 - val_loss: 0.6365 - learning_rate: 0.0010\n",
            "Epoch 12/150\n",
            "\u001b[1m400/400\u001b[0m \u001b[32m━━━━━━━━━━━━━━━━━━━━\u001b[0m\u001b[37m\u001b[0m \u001b[1m4s\u001b[0m 9ms/step - accuracy: 0.6953 - loss: 0.6394 - val_accuracy: 0.7034 - val_loss: 0.6367 - learning_rate: 0.0010\n",
            "Epoch 13/150\n",
            "\u001b[1m400/400\u001b[0m \u001b[32m━━━━━━━━━━━━━━━━━━━━\u001b[0m\u001b[37m\u001b[0m \u001b[1m6s\u001b[0m 12ms/step - accuracy: 0.7024 - loss: 0.6373 - val_accuracy: 0.7009 - val_loss: 0.6450 - learning_rate: 0.0010\n",
            "Epoch 14/150\n",
            "\u001b[1m400/400\u001b[0m \u001b[32m━━━━━━━━━━━━━━━━━━━━\u001b[0m\u001b[37m\u001b[0m \u001b[1m4s\u001b[0m 9ms/step - accuracy: 0.7015 - loss: 0.6389 - val_accuracy: 0.7034 - val_loss: 0.6285 - learning_rate: 0.0010\n",
            "Epoch 15/150\n",
            "\u001b[1m400/400\u001b[0m \u001b[32m━━━━━━━━━━━━━━━━━━━━\u001b[0m\u001b[37m\u001b[0m \u001b[1m4s\u001b[0m 9ms/step - accuracy: 0.7023 - loss: 0.6310 - val_accuracy: 0.7034 - val_loss: 0.6302 - learning_rate: 0.0010\n",
            "Epoch 16/150\n",
            "\u001b[1m400/400\u001b[0m \u001b[32m━━━━━━━━━━━━━━━━━━━━\u001b[0m\u001b[37m\u001b[0m \u001b[1m6s\u001b[0m 12ms/step - accuracy: 0.7051 - loss: 0.6274 - val_accuracy: 0.7034 - val_loss: 0.6265 - learning_rate: 0.0010\n",
            "Epoch 17/150\n",
            "\u001b[1m400/400\u001b[0m \u001b[32m━━━━━━━━━━━━━━━━━━━━\u001b[0m\u001b[37m\u001b[0m \u001b[1m4s\u001b[0m 9ms/step - accuracy: 0.7099 - loss: 0.6202 - val_accuracy: 0.7034 - val_loss: 0.6201 - learning_rate: 0.0010\n",
            "Epoch 18/150\n",
            "\u001b[1m400/400\u001b[0m \u001b[32m━━━━━━━━━━━━━━━━━━━━\u001b[0m\u001b[37m\u001b[0m \u001b[1m6s\u001b[0m 10ms/step - accuracy: 0.7004 - loss: 0.6270 - val_accuracy: 0.7034 - val_loss: 0.6192 - learning_rate: 0.0010\n",
            "Epoch 19/150\n",
            "\u001b[1m400/400\u001b[0m \u001b[32m━━━━━━━━━━━━━━━━━━━━\u001b[0m\u001b[37m\u001b[0m \u001b[1m4s\u001b[0m 10ms/step - accuracy: 0.7026 - loss: 0.6198 - val_accuracy: 0.7034 - val_loss: 0.6147 - learning_rate: 0.0010\n",
            "Epoch 20/150\n",
            "\u001b[1m400/400\u001b[0m \u001b[32m━━━━━━━━━━━━━━━━━━━━\u001b[0m\u001b[37m\u001b[0m \u001b[1m4s\u001b[0m 9ms/step - accuracy: 0.7025 - loss: 0.6162 - val_accuracy: 0.7031 - val_loss: 0.6194 - learning_rate: 0.0010\n",
            "Epoch 21/150\n",
            "\u001b[1m400/400\u001b[0m \u001b[32m━━━━━━━━━━━━━━━━━━━━\u001b[0m\u001b[37m\u001b[0m \u001b[1m4s\u001b[0m 10ms/step - accuracy: 0.7090 - loss: 0.6115 - val_accuracy: 0.7034 - val_loss: 0.6142 - learning_rate: 0.0010\n",
            "Epoch 22/150\n",
            "\u001b[1m400/400\u001b[0m \u001b[32m━━━━━━━━━━━━━━━━━━━━\u001b[0m\u001b[37m\u001b[0m \u001b[1m4s\u001b[0m 11ms/step - accuracy: 0.7104 - loss: 0.6094 - val_accuracy: 0.7034 - val_loss: 0.6105 - learning_rate: 0.0010\n",
            "Epoch 23/150\n",
            "\u001b[1m400/400\u001b[0m \u001b[32m━━━━━━━━━━━━━━━━━━━━\u001b[0m\u001b[37m\u001b[0m \u001b[1m4s\u001b[0m 9ms/step - accuracy: 0.7030 - loss: 0.6115 - val_accuracy: 0.7034 - val_loss: 0.6120 - learning_rate: 0.0010\n",
            "Epoch 24/150\n",
            "\u001b[1m400/400\u001b[0m \u001b[32m━━━━━━━━━━━━━━━━━━━━\u001b[0m\u001b[37m\u001b[0m \u001b[1m6s\u001b[0m 11ms/step - accuracy: 0.6970 - loss: 0.6177 - val_accuracy: 0.7034 - val_loss: 0.6168 - learning_rate: 0.0010\n",
            "Epoch 25/150\n",
            "\u001b[1m400/400\u001b[0m \u001b[32m━━━━━━━━━━━━━━━━━━━━\u001b[0m\u001b[37m\u001b[0m \u001b[1m5s\u001b[0m 11ms/step - accuracy: 0.6967 - loss: 0.6192 - val_accuracy: 0.7034 - val_loss: 0.6137 - learning_rate: 0.0010\n",
            "Epoch 26/150\n",
            "\u001b[1m400/400\u001b[0m \u001b[32m━━━━━━━━━━━━━━━━━━━━\u001b[0m\u001b[37m\u001b[0m \u001b[1m5s\u001b[0m 12ms/step - accuracy: 0.7067 - loss: 0.6095 - val_accuracy: 0.7034 - val_loss: 0.6119 - learning_rate: 0.0010\n",
            "Epoch 27/150\n",
            "\u001b[1m400/400\u001b[0m \u001b[32m━━━━━━━━━━━━━━━━━━━━\u001b[0m\u001b[37m\u001b[0m \u001b[1m5s\u001b[0m 14ms/step - accuracy: 0.7076 - loss: 0.6088 - val_accuracy: 0.7034 - val_loss: 0.6103 - learning_rate: 0.0010\n",
            "Epoch 28/150\n",
            "\u001b[1m400/400\u001b[0m \u001b[32m━━━━━━━━━━━━━━━━━━━━\u001b[0m\u001b[37m\u001b[0m \u001b[1m4s\u001b[0m 9ms/step - accuracy: 0.7018 - loss: 0.6122 - val_accuracy: 0.7034 - val_loss: 0.6092 - learning_rate: 0.0010\n",
            "Epoch 29/150\n",
            "\u001b[1m400/400\u001b[0m \u001b[32m━━━━━━━━━━━━━━━━━━━━\u001b[0m\u001b[37m\u001b[0m \u001b[1m4s\u001b[0m 9ms/step - accuracy: 0.7087 - loss: 0.6060 - val_accuracy: 0.7034 - val_loss: 0.6109 - learning_rate: 0.0010\n",
            "Epoch 30/150\n",
            "\u001b[1m400/400\u001b[0m \u001b[32m━━━━━━━━━━━━━━━━━━━━\u001b[0m\u001b[37m\u001b[0m \u001b[1m6s\u001b[0m 11ms/step - accuracy: 0.7000 - loss: 0.6138 - val_accuracy: 0.7034 - val_loss: 0.6106 - learning_rate: 0.0010\n",
            "Epoch 31/150\n",
            "\u001b[1m400/400\u001b[0m \u001b[32m━━━━━━━━━━━━━━━━━━━━\u001b[0m\u001b[37m\u001b[0m \u001b[1m4s\u001b[0m 9ms/step - accuracy: 0.7020 - loss: 0.6122 - val_accuracy: 0.7034 - val_loss: 0.6093 - learning_rate: 0.0010\n",
            "Epoch 32/150\n",
            "\u001b[1m400/400\u001b[0m \u001b[32m━━━━━━━━━━━━━━━━━━━━\u001b[0m\u001b[37m\u001b[0m \u001b[1m4s\u001b[0m 9ms/step - accuracy: 0.7037 - loss: 0.6101 - val_accuracy: 0.7034 - val_loss: 0.6097 - learning_rate: 0.0010\n",
            "Epoch 33/150\n",
            "\u001b[1m400/400\u001b[0m \u001b[32m━━━━━━━━━━━━━━━━━━━━\u001b[0m\u001b[37m\u001b[0m \u001b[1m5s\u001b[0m 12ms/step - accuracy: 0.7086 - loss: 0.6045 - val_accuracy: 0.7034 - val_loss: 0.6089 - learning_rate: 0.0010\n",
            "Epoch 34/150\n",
            "\u001b[1m400/400\u001b[0m \u001b[32m━━━━━━━━━━━━━━━━━━━━\u001b[0m\u001b[37m\u001b[0m \u001b[1m4s\u001b[0m 9ms/step - accuracy: 0.6996 - loss: 0.6121 - val_accuracy: 0.7034 - val_loss: 0.6115 - learning_rate: 0.0010\n",
            "Epoch 35/150\n",
            "\u001b[1m400/400\u001b[0m \u001b[32m━━━━━━━━━━━━━━━━━━━━\u001b[0m\u001b[37m\u001b[0m \u001b[1m4s\u001b[0m 9ms/step - accuracy: 0.7113 - loss: 0.6050 - val_accuracy: 0.7034 - val_loss: 0.6099 - learning_rate: 0.0010\n",
            "Epoch 36/150\n",
            "\u001b[1m400/400\u001b[0m \u001b[32m━━━━━━━━━━━━━━━━━━━━\u001b[0m\u001b[37m\u001b[0m \u001b[1m5s\u001b[0m 12ms/step - accuracy: 0.6989 - loss: 0.6130 - val_accuracy: 0.7034 - val_loss: 0.6100 - learning_rate: 0.0010\n",
            "Epoch 37/150\n",
            "\u001b[1m400/400\u001b[0m \u001b[32m━━━━━━━━━━━━━━━━━━━━\u001b[0m\u001b[37m\u001b[0m \u001b[1m4s\u001b[0m 9ms/step - accuracy: 0.7050 - loss: 0.6090 - val_accuracy: 0.7034 - val_loss: 0.6100 - learning_rate: 0.0010\n",
            "Epoch 38/150\n",
            "\u001b[1m400/400\u001b[0m \u001b[32m━━━━━━━━━━━━━━━━━━━━\u001b[0m\u001b[37m\u001b[0m \u001b[1m4s\u001b[0m 9ms/step - accuracy: 0.7067 - loss: 0.6063 - val_accuracy: 0.7034 - val_loss: 0.6097 - learning_rate: 0.0010\n",
            "Epoch 39/150\n",
            "\u001b[1m400/400\u001b[0m \u001b[32m━━━━━━━━━━━━━━━━━━━━\u001b[0m\u001b[37m\u001b[0m \u001b[1m6s\u001b[0m 12ms/step - accuracy: 0.7069 - loss: 0.6062 - val_accuracy: 0.7034 - val_loss: 0.6083 - learning_rate: 2.0000e-04\n",
            "Epoch 40/150\n",
            "\u001b[1m400/400\u001b[0m \u001b[32m━━━━━━━━━━━━━━━━━━━━\u001b[0m\u001b[37m\u001b[0m \u001b[1m4s\u001b[0m 9ms/step - accuracy: 0.6990 - loss: 0.6122 - val_accuracy: 0.7034 - val_loss: 0.6081 - learning_rate: 2.0000e-04\n",
            "Epoch 41/150\n",
            "\u001b[1m400/400\u001b[0m \u001b[32m━━━━━━━━━━━━━━━━━━━━\u001b[0m\u001b[37m\u001b[0m \u001b[1m4s\u001b[0m 9ms/step - accuracy: 0.6972 - loss: 0.6137 - val_accuracy: 0.7034 - val_loss: 0.6084 - learning_rate: 2.0000e-04\n",
            "Epoch 42/150\n",
            "\u001b[1m400/400\u001b[0m \u001b[32m━━━━━━━━━━━━━━━━━━━━\u001b[0m\u001b[37m\u001b[0m \u001b[1m5s\u001b[0m 9ms/step - accuracy: 0.6986 - loss: 0.6124 - val_accuracy: 0.7034 - val_loss: 0.6084 - learning_rate: 2.0000e-04\n",
            "Epoch 43/150\n",
            "\u001b[1m400/400\u001b[0m \u001b[32m━━━━━━━━━━━━━━━━━━━━\u001b[0m\u001b[37m\u001b[0m \u001b[1m4s\u001b[0m 9ms/step - accuracy: 0.7008 - loss: 0.6108 - val_accuracy: 0.7034 - val_loss: 0.6082 - learning_rate: 2.0000e-04\n",
            "Epoch 44/150\n",
            "\u001b[1m400/400\u001b[0m \u001b[32m━━━━━━━━━━━━━━━━━━━━\u001b[0m\u001b[37m\u001b[0m \u001b[1m6s\u001b[0m 12ms/step - accuracy: 0.6966 - loss: 0.6144 - val_accuracy: 0.7034 - val_loss: 0.6082 - learning_rate: 2.0000e-04\n",
            "Epoch 45/150\n",
            "\u001b[1m400/400\u001b[0m \u001b[32m━━━━━━━━━━━━━━━━━━━━\u001b[0m\u001b[37m\u001b[0m \u001b[1m4s\u001b[0m 9ms/step - accuracy: 0.7087 - loss: 0.6038 - val_accuracy: 0.7034 - val_loss: 0.6087 - learning_rate: 2.0000e-04\n",
            "Epoch 46/150\n",
            "\u001b[1m400/400\u001b[0m \u001b[32m━━━━━━━━━━━━━━━━━━━━\u001b[0m\u001b[37m\u001b[0m \u001b[1m5s\u001b[0m 9ms/step - accuracy: 0.7026 - loss: 0.6087 - val_accuracy: 0.7034 - val_loss: 0.6085 - learning_rate: 4.0000e-05\n",
            "Epoch 47/150\n",
            "\u001b[1m400/400\u001b[0m \u001b[32m━━━━━━━━━━━━━━━━━━━━\u001b[0m\u001b[37m\u001b[0m \u001b[1m5s\u001b[0m 9ms/step - accuracy: 0.7012 - loss: 0.6099 - val_accuracy: 0.7034 - val_loss: 0.6084 - learning_rate: 4.0000e-05\n",
            "Epoch 48/150\n",
            "\u001b[1m400/400\u001b[0m \u001b[32m━━━━━━━━━━━━━━━━━━━━\u001b[0m\u001b[37m\u001b[0m \u001b[1m4s\u001b[0m 9ms/step - accuracy: 0.7044 - loss: 0.6071 - val_accuracy: 0.7034 - val_loss: 0.6084 - learning_rate: 4.0000e-05\n",
            "Epoch 49/150\n",
            "\u001b[1m400/400\u001b[0m \u001b[32m━━━━━━━━━━━━━━━━━━━━\u001b[0m\u001b[37m\u001b[0m \u001b[1m6s\u001b[0m 12ms/step - accuracy: 0.7103 - loss: 0.6016 - val_accuracy: 0.7034 - val_loss: 0.6084 - learning_rate: 4.0000e-05\n",
            "Epoch 50/150\n",
            "\u001b[1m400/400\u001b[0m \u001b[32m━━━━━━━━━━━━━━━━━━━━\u001b[0m\u001b[37m\u001b[0m \u001b[1m4s\u001b[0m 9ms/step - accuracy: 0.7061 - loss: 0.6055 - val_accuracy: 0.7034 - val_loss: 0.6084 - learning_rate: 4.0000e-05\n",
            "Epoch 51/150\n",
            "\u001b[1m400/400\u001b[0m \u001b[32m━━━━━━━━━━━━━━━━━━━━\u001b[0m\u001b[37m\u001b[0m \u001b[1m5s\u001b[0m 9ms/step - accuracy: 0.7044 - loss: 0.6069 - val_accuracy: 0.7034 - val_loss: 0.6084 - learning_rate: 8.0000e-06\n",
            "Epoch 52/150\n",
            "\u001b[1m400/400\u001b[0m \u001b[32m━━━━━━━━━━━━━━━━━━━━\u001b[0m\u001b[37m\u001b[0m \u001b[1m5s\u001b[0m 12ms/step - accuracy: 0.7001 - loss: 0.6108 - val_accuracy: 0.7034 - val_loss: 0.6084 - learning_rate: 8.0000e-06\n",
            "Epoch 53/150\n",
            "\u001b[1m400/400\u001b[0m \u001b[32m━━━━━━━━━━━━━━━━━━━━\u001b[0m\u001b[37m\u001b[0m \u001b[1m4s\u001b[0m 9ms/step - accuracy: 0.7097 - loss: 0.6023 - val_accuracy: 0.7034 - val_loss: 0.6084 - learning_rate: 8.0000e-06\n",
            "Epoch 54/150\n",
            "\u001b[1m400/400\u001b[0m \u001b[32m━━━━━━━━━━━━━━━━━━━━\u001b[0m\u001b[37m\u001b[0m \u001b[1m5s\u001b[0m 10ms/step - accuracy: 0.7019 - loss: 0.6090 - val_accuracy: 0.7034 - val_loss: 0.6084 - learning_rate: 8.0000e-06\n",
            "Epoch 55/150\n",
            "\u001b[1m400/400\u001b[0m \u001b[32m━━━━━━━━━━━━━━━━━━━━\u001b[0m\u001b[37m\u001b[0m \u001b[1m5s\u001b[0m 9ms/step - accuracy: 0.7045 - loss: 0.6071 - val_accuracy: 0.7034 - val_loss: 0.6084 - learning_rate: 8.0000e-06\n",
            "\u001b[1m125/125\u001b[0m \u001b[32m━━━━━━━━━━━━━━━━━━━━\u001b[0m\u001b[37m\u001b[0m \u001b[1m0s\u001b[0m 3ms/step - accuracy: 0.7081 - loss: 0.6042\n",
            "\n",
            "Test Accuracy: 0.7040\n"
          ]
        }
      ]
    },
    {
      "cell_type": "code",
      "source": [
        "import matplotlib.pyplot as plt\n",
        "\n",
        "# Plotting training history\n",
        "plt.figure(figsize=(12, 4))\n",
        "\n",
        "# Plot accuracy\n",
        "plt.subplot(1, 2, 1)\n",
        "plt.plot(history.history['accuracy'], label='Training Accuracy')\n",
        "plt.plot(history.history['val_accuracy'], label='Validation Accuracy')\n",
        "plt.title('Model Accuracy')\n",
        "plt.xlabel('Epoch')\n",
        "plt.ylabel('Accuracy')\n",
        "plt.legend()\n",
        "\n",
        "# Plot loss\n",
        "plt.subplot(1, 2, 2)\n",
        "plt.plot(history.history['loss'], label='Training Loss')\n",
        "plt.plot(history.history['val_loss'], label='Validation Loss')\n",
        "plt.title('Model Loss')\n",
        "plt.xlabel('Epoch')\n",
        "plt.ylabel('Loss')\n",
        "plt.legend()\n",
        "\n",
        "plt.tight_layout()\n",
        "plt.show()"
      ],
      "metadata": {
        "colab": {
          "base_uri": "https://localhost:8080/",
          "height": 272
        },
        "id": "9MMITfenR0iX",
        "outputId": "f529b1a7-0cfc-494c-9fe3-bd9d9d3770c7"
      },
      "execution_count": 47,
      "outputs": [
        {
          "output_type": "display_data",
          "data": {
            "text/plain": [
              "<Figure size 1200x400 with 2 Axes>"
            ],
            "image/png": "[encoded data removed]"
          },
          "metadata": {}
        }
      ]
    },
    {
      "cell_type": "code",
      "source": [],
      "metadata": {
        "id": "0IOpHaXnSJcU"
      },
      "execution_count": null,
      "outputs": []
    }
  ]
}